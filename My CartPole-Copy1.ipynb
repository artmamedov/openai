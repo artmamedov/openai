{
 "cells": [
  {
   "cell_type": "markdown",
   "metadata": {},
   "source": [
    "# Imports"
   ]
  },
  {
   "cell_type": "code",
   "execution_count": 1,
   "metadata": {},
   "outputs": [
    {
     "data": {
      "text/plain": [
       "'GeForce GTX 1050 Ti'"
      ]
     },
     "execution_count": 1,
     "metadata": {},
     "output_type": "execute_result"
    }
   ],
   "source": [
    "import gym\n",
    "import os\n",
    "import numpy as np\n",
    "from random import randint\n",
    "from sklearn.utils import shuffle\n",
    "from tqdm import tqdm_notebook as tqdm\n",
    "import math\n",
    "import torch\n",
    "import torch.nn.functional as F\n",
    "import torch.autograd as autograd \n",
    "from torch import nn\n",
    "from torch import optim\n",
    "import random\n",
    "from collections import deque\n",
    "from IPython.display import clear_output\n",
    "import matplotlib.pyplot as plt\n",
    "from matplotlib.backends.backend_pdf import PdfPages\n",
    "from tqdm import tqdm_notebook as tqdm\n",
    "from statistics import mean, stdev\n",
    "\n",
    "env = gym.make('CartPole-v1')\n",
    "device = torch.device(\"cuda\" if torch.cuda.is_available() else \"cpu\")\n",
    "torch.cuda.get_device_name(torch.cuda.current_device())"
   ]
  },
  {
   "cell_type": "code",
   "execution_count": 2,
   "metadata": {},
   "outputs": [
    {
     "name": "stdout",
     "output_type": "stream",
     "text": [
      "Action space: Discrete(2)\n",
      "Observation matrix: Box(4,)\n",
      "Observation min: [-4.8000002e+00 -3.4028235e+38 -4.1887903e-01 -3.4028235e+38]\n",
      "Observation max: [4.8000002e+00 3.4028235e+38 4.1887903e-01 3.4028235e+38]\n"
     ]
    }
   ],
   "source": [
    "print(\"Action space:\" , env.action_space) \n",
    "print(\"Observation matrix:\", env.observation_space)\n",
    "print(\"Observation min:\",env.observation_space.low)\n",
    "print(\"Observation max:\", env.observation_space.high)"
   ]
  },
  {
   "cell_type": "markdown",
   "metadata": {},
   "source": [
    "# Functions"
   ]
  },
  {
   "cell_type": "code",
   "execution_count": 3,
   "metadata": {},
   "outputs": [],
   "source": [
    "class ReLU(nn.Module):\n",
    "    #Regular Relu except it normalizes the means\n",
    "    def forward(self, inp): return (inp.clamp_min(0.) - inp.clamp_min(0.).mean())\n",
    "    def backward(self, out, inp): inp.g = (inp>0).float() * out.g\n",
    "\n",
    "def mse(output, target): return (output - target).pow(2).mean()\n",
    "\n",
    "class DeepQ(nn.Module):\n",
    "    def __init__(self, sizes, activation = ReLU, dueling = False):\n",
    "        \n",
    "        super(DeepQ, self).__init__()\n",
    "\n",
    "        #Generic nn.Linear, ReLU() with adaptive layer size from OpenAI\n",
    "        self.layers = []\n",
    "        for j in range(len(sizes)-2):\n",
    "            self.layers += [nn.Linear(sizes[j], sizes[j+1]), activation()]\n",
    "        \n",
    "        self.layers = nn.Sequential(*self.layers)\n",
    "        \n",
    "        self.dueling = dueling\n",
    "        \n",
    "        #Final nn layer \n",
    "        self.values = nn.Linear(sizes[-2],1)\n",
    "        \n",
    "        #Advantage layer\n",
    "        self.advantages = nn.Linear(sizes[-2],sizes[-1])\n",
    "        \n",
    "    def forward(self,x):\n",
    "                \n",
    "        #Features is up to last layer    \n",
    "        features = self.layers(x.float())\n",
    "            \n",
    "        #print(\"Inner\", Qvalues)\n",
    "        \n",
    "        if self.dueling:\n",
    "            #Dueling step\n",
    "            Qvalues = self.values(features)\n",
    "            advantages = self.advantages(features)\n",
    "            \n",
    "            #This stops it from breaking at first step\n",
    "            if advantages.shape != torch.Size([2]):\n",
    "                return Qvalues + (advantages - advantages.max(axis=1, keepdims=True)[0])\n",
    "                #return Qvalues + (advantages - advantages.mean())\n",
    "            else:\n",
    "                return Qvalues  \n",
    "            \n",
    "        else:\n",
    "            Qvalues = self.advantages(features)\n",
    "            return Qvalues\n",
    "\n",
    "    \n",
    "#Class is useful so that I remember the order of appends using shift+tab\n",
    "class Memory():\n",
    "    def __init__(self, maxMemory):\n",
    "        #Deque is a fifo list with a max length\n",
    "        self.memory = deque(maxlen = maxMemory)\n",
    "        \n",
    "    #Passes in Bellman equation parameters\n",
    "    def update(self, state, action, reward, next_state, done):\n",
    "        self.memory.append((state, action, reward, next_state, done))\n",
    "    \n",
    "    #Takes a sample of size batch_size from memory\n",
    "    def sample(self, batch_size):\n",
    "        #Zip into tuples all states, then all actions, then all rewards, etc\n",
    "        return zip(*random.sample(self.memory, batch_size))\n",
    "    \n",
    "    def __len__(self):\n",
    "        return len(self.memory)\n",
    "    \n",
    "    def __repr__(self):\n",
    "        return str(self.memory)\n",
    "    \n",
    "def epsilon_decay(step, eps_max, eps_min, eps_decay):\n",
    "    return eps_min + (eps_max - eps_min) * math.exp(-1. * step * eps_decay)\n",
    "\n",
    "def update_model(model,target_model,opt,memory,discount,batch_size, targets):\n",
    "\n",
    "    #Take a sample from memory with batch size\n",
    "    states, actions, rewards, next_states, dones = memory.sample(batch_size)\n",
    "\n",
    "    states      = torch.tensor(states ,dtype = torch.float, device = device)\n",
    "    next_states = torch.tensor(next_states, dtype = torch.float, device = device)\n",
    "    actions     = torch.tensor(actions, dtype = torch.long, device = device).unsqueeze(1)\n",
    "    rewards     = torch.tensor(rewards, dtype = torch.float, device = device)\n",
    "    dones       = torch.tensor(dones, dtype = torch.float, device = device)\n",
    "    \n",
    "    #Take Q from current state based on actions taken at that state\n",
    "    Qs = model(states)    \n",
    "    \n",
    "    Qs = Qs.gather(dim = 1, index = actions).squeeze()\n",
    "        \n",
    "    #Calculate next Q using target model and get the biggest one\n",
    "    \n",
    "    next_Qs = target_model(next_states).max(dim=1)[0]\n",
    "    \n",
    "    #print(next_Qs)\n",
    "    \n",
    "    targets.append(next_Qs)\n",
    "    \n",
    "    #print(targets)\n",
    "    \"\"\"\n",
    "    #Used for Average DQN, default k = 1 means regular\n",
    "    avg = torch.tensor([0. for i in range(batch_size)]).cuda()\n",
    "    for item in targets:\n",
    "        avg += item\n",
    "    avg /= len(targets)\n",
    "    \n",
    "    #avg = torch.FloatTensor(list(targets)).sum(axis=0)/len(deque_list).cuda()\n",
    "    \n",
    "    #Bellman, (1-dones) because want to be 0 if done = 1 (True)\n",
    "    bellman = rewards + (1-dones) * discount * avg\n",
    "    \"\"\" \n",
    "    \n",
    "    bellman = rewards + (1-dones) * discount * next_Qs\n",
    "    #print(f\"Bellman: {bellman}\")\n",
    "    \n",
    "    \n",
    "    #print(f\"Loss: {loss}\")\n",
    "    \n",
    "    #Gradient \n",
    "    opt.zero_grad()\n",
    "    loss = loss_func(bellman,Qs)\n",
    "    loss.backward(retain_graph=True)\n",
    "    opt.step()\n",
    "\n",
    "    return loss\n",
    "\n",
    "\n",
    "def plot(rewards, text):\n",
    "    clear_output(True)\n",
    "    fig = plt.figure(figsize=(20,5))\n",
    "    plt.xlabel(text, ha=\"center\")\n",
    "    plt.title(f\"Rewards, Batch # {len(rewards)}\")\n",
    "    plt.plot(rewards)\n",
    "    plt.show()\n",
    "    return fig"
   ]
  },
  {
   "cell_type": "markdown",
   "metadata": {},
   "source": [
    "# Run"
   ]
  },
  {
   "cell_type": "code",
   "execution_count": 4,
   "metadata": {
    "scrolled": true
   },
   "outputs": [],
   "source": [
    "def run(layers, batch_size, discount, eps_max, eps_min, eps_decay, update_freq, lr, memory_size, loss_func, k = 1, dueling = False, write_results = False):\n",
    "    global pdf\n",
    "    \n",
    "    m = env.observation_space.shape[0]\n",
    "    n = env.action_space.n\n",
    "    \n",
    "    sizes = [m] + layers + [n]  \n",
    "    \n",
    "    model = DeepQ(sizes = sizes, dueling = dueling).cuda()\n",
    "    target_model = DeepQ(sizes = sizes, dueling = dueling).cuda()\n",
    "    opt = optim.Adam(model.parameters(), lr=lr)\n",
    "    targets = deque(maxlen = k)\n",
    "    \n",
    "    rewards = []\n",
    "    memory = Memory(memory_size)\n",
    "    \n",
    "    max_reward = 0\n",
    "    best_episode = 0\n",
    "    best_model = model\n",
    "    iter = 0\n",
    "    \n",
    "    name = (f\"Layers: {layers}\"\n",
    "            f\"      Loss function: {loss_func.__name__}\"\n",
    "            f\"      Batch size: {batch_size}\"\n",
    "            f\"      Discount: {discount}\"\n",
    "            f\"      Epsilon: {eps_max} to {eps_min} decay: {eps_decay}\"\n",
    "            f\"      Learning rate: {lr}\"\n",
    "            f\"      Update freq: {update_freq}\"\n",
    "            f\"      Memory size: {memory_size}\"\n",
    "            f\"      Dueling: {dueling}\"\n",
    "            f\"      k = {k}\")\n",
    "       \n",
    "    #pdf = PdfPages('output.pdf')\n",
    "    \n",
    "    for episode in range(1,num_episodes+1):\n",
    "        \n",
    "        state = env.reset()\n",
    "        episode_rewards = 0\n",
    "        done = False\n",
    "\n",
    "        while not done:\n",
    "            #Lets you watch, but trains so much faster if you don't\n",
    "            #env.render()\n",
    "                    \n",
    "            #Calculate Q Value\n",
    "            Q = model(torch.tensor(state, device = device).unsqueeze(0))\n",
    "                        \n",
    "            epsilon = epsilon_decay(iter, eps_max, eps_min, eps_decay)\n",
    "            \n",
    "            \n",
    "            #Do we do take a random action?\n",
    "            if random.random() > epsilon:\n",
    "                action = torch.argmax(Q).item()\n",
    "            else:\n",
    "                action = env.action_space.sample()\n",
    "\n",
    "            #Take step and update memory\n",
    "            next_state, reward, done, info = env.step(action)    \n",
    "            memory.update(state, action, reward, next_state, done)\n",
    "\n",
    "\n",
    "            #Updates the model if you can take a proper batch\n",
    "            if len(memory) > batch_size:\n",
    "                loss = update_model(model,target_model,opt,memory,discount,batch_size, targets)\n",
    "                #loss = td_loss(model,target_model,batch_size,memory,,opt)\n",
    "                \n",
    "            #Update target model every update_freq steps:\n",
    "            if iter%update_freq == 0: \n",
    "                target_model.load_state_dict(model.state_dict())\n",
    "\n",
    "            #Updates\n",
    "            state = next_state\n",
    "            episode_rewards += reward\n",
    "            iter += 1\n",
    "\n",
    "        rewards.append(episode_rewards)    \n",
    "        if episode_rewards > max_reward:\n",
    "            max_reward = episode_rewards\n",
    "            best_episode = episode\n",
    "            best_model = model\n",
    "        plot(rewards, name)\n",
    "        print(epsilon)\n",
    "        \n",
    "        if len(rewards)>100:\n",
    "            average = mean(rewards[-100:])\n",
    "            print(average)\n",
    "            if average > 495:\n",
    "                print(f\"Finished in {episode} episodes!\")\n",
    "                return episode\n",
    "            \n",
    "    env.close()\n",
    "    rewards = np.asarray(rewards)\n",
    "    print(rewards.mean(), rewards.std())   \n",
    "    fig = plot(rewards, name)\n",
    "    if write_results:\n",
    "        fig.savefig('CartPole_Trials/'+f'{l1}_{l2}_{batch_size}_{discount}_{eps_max}_{eps_min}_{eps_decay}_{update_freq}_{lr}_{memory_size}_{dueling}_{k}'+'.jpg')\n",
    "        #pdf.savefig(fig)"
   ]
  },
  {
   "cell_type": "markdown",
   "metadata": {},
   "source": [
    "# Set up"
   ]
  },
  {
   "cell_type": "code",
   "execution_count": 5,
   "metadata": {},
   "outputs": [],
   "source": [
    "num_episodes = 1000\n",
    "\n",
    "layers = [256,256]\n",
    "\n",
    "batch_size = 32\n",
    "memory_size = 30000\n",
    "discount = 0.99\n",
    "eps_max = 1\n",
    "eps_min = 0.0001\n",
    "eps_decay = 1e-3\n",
    "update_freq = 5 #How frequently target network gets updated \n",
    "lr = 0.001\n",
    "k = 1\n",
    "dueling = False\n",
    "write_results = False\n",
    "\n",
    "loss_func = mse"
   ]
  },
  {
   "cell_type": "code",
   "execution_count": 6,
   "metadata": {},
   "outputs": [
    {
     "data": {
      "image/png": "[encoded data removed]",
      "text/plain": [
       "<Figure size 1440x360 with 1 Axes>"
      ]
     },
     "metadata": {
      "needs_background": "light"
     },
     "output_type": "display_data"
    },
    {
     "name": "stdout",
     "output_type": "stream",
     "text": [
      "0.0001\n",
      "496.33\n",
      "Finished in 189 episodes!\n"
     ]
    }
   ],
   "source": [
    "results = run(layers, batch_size, discount, eps_max, eps_min, eps_decay, update_freq, lr, memory_size, loss_func, k = k, dueling = dueling, write_results = write_results)"
   ]
  },
  {
   "cell_type": "code",
   "execution_count": 7,
   "metadata": {
    "scrolled": false
   },
   "outputs": [
    {
     "data": {
      "text/plain": [
       "'\\nsolutions = []\\nfor s in range(50):\\n    env.seed(s)\\n    random.seed(s)\\n    np.random.seed(s)\\n    f = open(\"results_cartpole_relu.txt\",\"a\")    \\n    f.write(str(s)+\":\")\\n    results = run(l1, l2, batch_size, discount, eps_max, eps_min, eps_decay, update_freq, lr, memory_size, loss_func, k = k, dueling = dueling, write_results = write_results)\\n    f = open(\"results_cartpole_relu.txt\",\"a\")    \\n    f.write(str(results)+\"\\n\\n\")\\n    solutions.append(results)\\nsolutions, mean(solutions), std(solutions)\\n'"
      ]
     },
     "execution_count": 7,
     "metadata": {},
     "output_type": "execute_result"
    }
   ],
   "source": [
    "\"\"\"\n",
    "solutions = []\n",
    "for s in range(50):\n",
    "    env.seed(s)\n",
    "    random.seed(s)\n",
    "    np.random.seed(s)\n",
    "    f = open(\"results_cartpole_relu.txt\",\"a\")    \n",
    "    f.write(str(s)+\":\")\n",
    "    results = run(l1, l2, batch_size, discount, eps_max, eps_min, eps_decay, update_freq, lr, memory_size, loss_func, k = k, dueling = dueling, write_results = write_results)\n",
    "    f = open(\"results_cartpole_relu.txt\",\"a\")    \n",
    "    f.write(str(results)+\"\\n\\n\")\n",
    "    solutions.append(results)\n",
    "solutions, mean(solutions), std(solutions)\n",
    "\"\"\""
   ]
  },
  {
   "cell_type": "code",
   "execution_count": 8,
   "metadata": {},
   "outputs": [],
   "source": [
    "#Clear Contents:\n",
    "#open('results.txt', 'w').close()\n",
    "#pdf.close()"
   ]
  },
  {
   "cell_type": "code",
   "execution_count": 9,
   "metadata": {},
   "outputs": [
    {
     "data": {
      "text/plain": [
       "([4, 1, 2, 3, 2], 2, 3)"
      ]
     },
     "execution_count": 9,
     "metadata": {},
     "output_type": "execute_result"
    }
   ],
   "source": [
    "m = [env.observation_space.shape[0]]\n",
    "n = [env.action_space.n]\n",
    "sizes = [1,2,3] \n",
    "\n",
    "test = m + sizes +n\n",
    "test, test[-1], test[-2]"
   ]
  },
  {
   "cell_type": "code",
   "execution_count": null,
   "metadata": {},
   "outputs": [],
   "source": []
  }
 ],
 "metadata": {
  "kernelspec": {
   "display_name": "Python 3",
   "language": "python",
   "name": "python3"
  },
  "language_info": {
   "codemirror_mode": {
    "name": "ipython",
    "version": 3
   },
   "file_extension": ".py",
   "mimetype": "text/x-python",
   "name": "python",
   "nbconvert_exporter": "python",
   "pygments_lexer": "ipython3",
   "version": "3.7.9"
  }
 },
 "nbformat": 4,
 "nbformat_minor": 2
}
